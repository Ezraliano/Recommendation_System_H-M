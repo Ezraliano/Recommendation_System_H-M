{
  "nbformat": 4,
  "nbformat_minor": 0,
  "metadata": {
    "colab": {
      "provenance": []
    },
    "kernelspec": {
      "name": "python3",
      "display_name": "Python 3"
    },
    "language_info": {
      "name": "python"
    }
  },
  "cells": [
    {
      "cell_type": "markdown",
      "source": [
        "## Import Library"
      ],
      "metadata": {
        "id": "jBHJJwjber9f"
      }
    },
    {
      "cell_type": "code",
      "execution_count": 1,
      "metadata": {
        "id": "EfjPqCTXOnY6"
      },
      "outputs": [],
      "source": [
        "import pandas as pd\n",
        "import numpy as np\n",
        "import seaborn as sns\n",
        "from sklearn.preprocessing import OneHotEncoder, StandardScaler\n",
        "from sklearn.feature_extraction.text import TfidfVectorizer\n",
        "import warnings\n",
        "warnings.filterwarnings('ignore')\n",
        "import matplotlib.pyplot as plt\n",
        "from sklearn.metrics.pairwise import cosine_similarity"
      ]
    },
    {
      "cell_type": "markdown",
      "source": [
        "Deskripsi :\n",
        "Mengimpor pustaka yang diperlukan untuk analisis data, visualisasi, preprocessing, dan modeling:\n",
        "- pandas dan numpy untuk manipulasi data.\n",
        "- seaborn dan matplotlib untuk visualisasi.\n",
        "- sklearn.preprocessing untuk encoding dan standarisasi.\n",
        "- TfidfVectorizer untuk ekstraksi fitur teks.\n",
        "- cosine_similarity untuk menghitung kesamaan antar produk.\n",
        "- warnings untuk mengabaikan peringatan yang tidak relevan.\n",
        "\n",
        "Library yang diimpor menunjukkan bahwa kode ini akan melakukan analisis data, visualisasi, pra-pemrosesan, dan pembangunan sistem rekomendasi."
      ],
      "metadata": {
        "id": "8TswPoNMX8tn"
      }
    },
    {
      "cell_type": "markdown",
      "source": [
        "## Load Data"
      ],
      "metadata": {
        "id": "xYvGzWY_ewd8"
      }
    },
    {
      "cell_type": "code",
      "source": [
        "hm1 = pd.read_csv('https://raw.githubusercontent.com/Ezraliano/Dataset_HM/refs/heads/main/handm.csv')\n",
        "hm1.head()\n",
        "hm1.tail()"
      ],
      "metadata": {
        "colab": {
          "base_uri": "https://localhost:8080/",
          "height": 625
        },
        "id": "fmesjaOZxzyu",
        "outputId": "971c8d5d-a719-4fe8-fbd5-c07bc867dbe9"
      },
      "execution_count": 2,
      "outputs": [
        {
          "output_type": "execute_result",
          "data": {
            "text/plain": [
              "      Unnamed: 0   productId                         productName brandName  \\\n",
              "9672        9672  1199187014            Slim Straight High Jeans       H&M   \n",
              "9673        9673  1198343002                  Bootcut High Jeans       H&M   \n",
              "9674        9674  1232588003                    Lace Push-up Bra       H&M   \n",
              "9675        9675  1208310002  2-pack Padded Soft-cup Cotton Bras       H&M   \n",
              "9676        9676  1227825002        Padded Balconette Bikini Top       H&M   \n",
              "\n",
              "                                                    url  price stockState  \\\n",
              "9672  https://www2.hm.com/en_us/productpage.11991870...  34.99  Available   \n",
              "9673  https://www2.hm.com/en_us/productpage.11983430...  39.99  Available   \n",
              "9674  https://www2.hm.com/en_us/productpage.12325880...  17.99  Available   \n",
              "9675  https://www2.hm.com/en_us/productpage.12083100...  24.99  Available   \n",
              "9676  https://www2.hm.com/en_us/productpage.12278250...  19.99  Available   \n",
              "\n",
              "      comingSoon         colorName  isOnline  colors  \\\n",
              "9672       False             Beige      True  BBAB92   \n",
              "9673       False  Light denim blue      True  79829D   \n",
              "9674       False       Powder pink      True  CCC2C2   \n",
              "9675       False       Beige/black      True  BEA894   \n",
              "9676       False             Brown      True  745A43   \n",
              "\n",
              "                                       colorShades  newArrival  \\\n",
              "9672                              Ecru|Taupe|Wheat       False   \n",
              "9673  Blue gray|Bright blue|Pastel blue|Royal blue       False   \n",
              "9674            Coral|Dusty pink|Light pink|Salmon       False   \n",
              "9675                              Ecru|Taupe|Wheat       False   \n",
              "9676                                           NaN       False   \n",
              "\n",
              "                          mainCatCode  \\\n",
              "9672            ladies_jeans_straight   \n",
              "9673             ladies_jeans_bootcut   \n",
              "9674      ladies_lingerie_bras_padded   \n",
              "9675   ladies_lingerie_bras_multipack   \n",
              "9676  ladies_swimwear_bikinisets_tops   \n",
              "\n",
              "                                                details  \\\n",
              "9672  Straight-fit, 5-pocket jeans in cotton denim w...   \n",
              "9673  5-pocket, bootcut jeans in cotton denim with g...   \n",
              "9674  Push-up bra in lace. Adjustable shoulder strap...   \n",
              "9675  Soft-cup bras in cotton jersey. Adjustable sho...   \n",
              "9676  Lined balconette bikini top. Detachable, adjus...   \n",
              "\n",
              "                                              materials  \n",
              "9672  COMPOSITION\\nShell:Cotton 99%, Spandex 1%\\nPoc...  \n",
              "9673  COMPOSITION\\nShell:Cotton 99%, Spandex 1%\\nPad...  \n",
              "9674  COMPOSITION\\nFront:Polyamide 88%, Spandex 12%\\...  \n",
              "9675  COMPOSITION\\nShell:Cotton 95%, Spandex 5%\\nLin...  \n",
              "9676  COMPOSITION\\nShell:Polyester 93%, Spandex 7%\\n...  "
            ],
            "text/html": [
              "\n",
              "  <div id=\"df-db9c8efc-4369-4d10-991d-98ee9b351740\" class=\"colab-df-container\">\n",
              "    <div>\n",
              "<style scoped>\n",
              "    .dataframe tbody tr th:only-of-type {\n",
              "        vertical-align: middle;\n",
              "    }\n",
              "\n",
              "    .dataframe tbody tr th {\n",
              "        vertical-align: top;\n",
              "    }\n",
              "\n",
              "    .dataframe thead th {\n",
              "        text-align: right;\n",
              "    }\n",
              "</style>\n",
              "<table border=\"1\" class=\"dataframe\">\n",
              "  <thead>\n",
              "    <tr style=\"text-align: right;\">\n",
              "      <th></th>\n",
              "      <th>Unnamed: 0</th>\n",
              "      <th>productId</th>\n",
              "      <th>productName</th>\n",
              "      <th>brandName</th>\n",
              "      <th>url</th>\n",
              "      <th>price</th>\n",
              "      <th>stockState</th>\n",
              "      <th>comingSoon</th>\n",
              "      <th>colorName</th>\n",
              "      <th>isOnline</th>\n",
              "      <th>colors</th>\n",
              "      <th>colorShades</th>\n",
              "      <th>newArrival</th>\n",
              "      <th>mainCatCode</th>\n",
              "      <th>details</th>\n",
              "      <th>materials</th>\n",
              "    </tr>\n",
              "  </thead>\n",
              "  <tbody>\n",
              "    <tr>\n",
              "      <th>9672</th>\n",
              "      <td>9672</td>\n",
              "      <td>1199187014</td>\n",
              "      <td>Slim Straight High Jeans</td>\n",
              "      <td>H&amp;M</td>\n",
              "      <td>https://www2.hm.com/en_us/productpage.11991870...</td>\n",
              "      <td>34.99</td>\n",
              "      <td>Available</td>\n",
              "      <td>False</td>\n",
              "      <td>Beige</td>\n",
              "      <td>True</td>\n",
              "      <td>BBAB92</td>\n",
              "      <td>Ecru|Taupe|Wheat</td>\n",
              "      <td>False</td>\n",
              "      <td>ladies_jeans_straight</td>\n",
              "      <td>Straight-fit, 5-pocket jeans in cotton denim w...</td>\n",
              "      <td>COMPOSITION\\nShell:Cotton 99%, Spandex 1%\\nPoc...</td>\n",
              "    </tr>\n",
              "    <tr>\n",
              "      <th>9673</th>\n",
              "      <td>9673</td>\n",
              "      <td>1198343002</td>\n",
              "      <td>Bootcut High Jeans</td>\n",
              "      <td>H&amp;M</td>\n",
              "      <td>https://www2.hm.com/en_us/productpage.11983430...</td>\n",
              "      <td>39.99</td>\n",
              "      <td>Available</td>\n",
              "      <td>False</td>\n",
              "      <td>Light denim blue</td>\n",
              "      <td>True</td>\n",
              "      <td>79829D</td>\n",
              "      <td>Blue gray|Bright blue|Pastel blue|Royal blue</td>\n",
              "      <td>False</td>\n",
              "      <td>ladies_jeans_bootcut</td>\n",
              "      <td>5-pocket, bootcut jeans in cotton denim with g...</td>\n",
              "      <td>COMPOSITION\\nShell:Cotton 99%, Spandex 1%\\nPad...</td>\n",
              "    </tr>\n",
              "    <tr>\n",
              "      <th>9674</th>\n",
              "      <td>9674</td>\n",
              "      <td>1232588003</td>\n",
              "      <td>Lace Push-up Bra</td>\n",
              "      <td>H&amp;M</td>\n",
              "      <td>https://www2.hm.com/en_us/productpage.12325880...</td>\n",
              "      <td>17.99</td>\n",
              "      <td>Available</td>\n",
              "      <td>False</td>\n",
              "      <td>Powder pink</td>\n",
              "      <td>True</td>\n",
              "      <td>CCC2C2</td>\n",
              "      <td>Coral|Dusty pink|Light pink|Salmon</td>\n",
              "      <td>False</td>\n",
              "      <td>ladies_lingerie_bras_padded</td>\n",
              "      <td>Push-up bra in lace. Adjustable shoulder strap...</td>\n",
              "      <td>COMPOSITION\\nFront:Polyamide 88%, Spandex 12%\\...</td>\n",
              "    </tr>\n",
              "    <tr>\n",
              "      <th>9675</th>\n",
              "      <td>9675</td>\n",
              "      <td>1208310002</td>\n",
              "      <td>2-pack Padded Soft-cup Cotton Bras</td>\n",
              "      <td>H&amp;M</td>\n",
              "      <td>https://www2.hm.com/en_us/productpage.12083100...</td>\n",
              "      <td>24.99</td>\n",
              "      <td>Available</td>\n",
              "      <td>False</td>\n",
              "      <td>Beige/black</td>\n",
              "      <td>True</td>\n",
              "      <td>BEA894</td>\n",
              "      <td>Ecru|Taupe|Wheat</td>\n",
              "      <td>False</td>\n",
              "      <td>ladies_lingerie_bras_multipack</td>\n",
              "      <td>Soft-cup bras in cotton jersey. Adjustable sho...</td>\n",
              "      <td>COMPOSITION\\nShell:Cotton 95%, Spandex 5%\\nLin...</td>\n",
              "    </tr>\n",
              "    <tr>\n",
              "      <th>9676</th>\n",
              "      <td>9676</td>\n",
              "      <td>1227825002</td>\n",
              "      <td>Padded Balconette Bikini Top</td>\n",
              "      <td>H&amp;M</td>\n",
              "      <td>https://www2.hm.com/en_us/productpage.12278250...</td>\n",
              "      <td>19.99</td>\n",
              "      <td>Available</td>\n",
              "      <td>False</td>\n",
              "      <td>Brown</td>\n",
              "      <td>True</td>\n",
              "      <td>745A43</td>\n",
              "      <td>NaN</td>\n",
              "      <td>False</td>\n",
              "      <td>ladies_swimwear_bikinisets_tops</td>\n",
              "      <td>Lined balconette bikini top. Detachable, adjus...</td>\n",
              "      <td>COMPOSITION\\nShell:Polyester 93%, Spandex 7%\\n...</td>\n",
              "    </tr>\n",
              "  </tbody>\n",
              "</table>\n",
              "</div>\n",
              "    <div class=\"colab-df-buttons\">\n",
              "\n",
              "  <div class=\"colab-df-container\">\n",
              "    <button class=\"colab-df-convert\" onclick=\"convertToInteractive('df-db9c8efc-4369-4d10-991d-98ee9b351740')\"\n",
              "            title=\"Convert this dataframe to an interactive table.\"\n",
              "            style=\"display:none;\">\n",
              "\n",
              "  <svg xmlns=\"http://www.w3.org/2000/svg\" height=\"24px\" viewBox=\"0 -960 960 960\">\n",
              "    <path d=\"M120-120v-720h720v720H120Zm60-500h600v-160H180v160Zm220 220h160v-160H400v160Zm0 220h160v-160H400v160ZM180-400h160v-160H180v160Zm440 0h160v-160H620v160ZM180-180h160v-160H180v160Zm440 0h160v-160H620v160Z\"/>\n",
              "  </svg>\n",
              "    </button>\n",
              "\n",
              "  <style>\n",
              "    .colab-df-container {\n",
              "      display:flex;\n",
              "      gap: 12px;\n",
              "    }\n",
              "\n",
              "    .colab-df-convert {\n",
              "      background-color: #E8F0FE;\n",
              "      border: none;\n",
              "      border-radius: 50%;\n",
              "      cursor: pointer;\n",
              "      display: none;\n",
              "      fill: #1967D2;\n",
              "      height: 32px;\n",
              "      padding: 0 0 0 0;\n",
              "      width: 32px;\n",
              "    }\n",
              "\n",
              "    .colab-df-convert:hover {\n",
              "      background-color: #E2EBFA;\n",
              "      box-shadow: 0px 1px 2px rgba(60, 64, 67, 0.3), 0px 1px 3px 1px rgba(60, 64, 67, 0.15);\n",
              "      fill: #174EA6;\n",
              "    }\n",
              "\n",
              "    .colab-df-buttons div {\n",
              "      margin-bottom: 4px;\n",
              "    }\n",
              "\n",
              "    [theme=dark] .colab-df-convert {\n",
              "      background-color: #3B4455;\n",
              "      fill: #D2E3FC;\n",
              "    }\n",
              "\n",
              "    [theme=dark] .colab-df-convert:hover {\n",
              "      background-color: #434B5C;\n",
              "      box-shadow: 0px 1px 3px 1px rgba(0, 0, 0, 0.15);\n",
              "      filter: drop-shadow(0px 1px 2px rgba(0, 0, 0, 0.3));\n",
              "      fill: #FFFFFF;\n",
              "    }\n",
              "  </style>\n",
              "\n",
              "    <script>\n",
              "      const buttonEl =\n",
              "        document.querySelector('#df-db9c8efc-4369-4d10-991d-98ee9b351740 button.colab-df-convert');\n",
              "      buttonEl.style.display =\n",
              "        google.colab.kernel.accessAllowed ? 'block' : 'none';\n",
              "\n",
              "      async function convertToInteractive(key) {\n",
              "        const element = document.querySelector('#df-db9c8efc-4369-4d10-991d-98ee9b351740');\n",
              "        const dataTable =\n",
              "          await google.colab.kernel.invokeFunction('convertToInteractive',\n",
              "                                                    [key], {});\n",
              "        if (!dataTable) return;\n",
              "\n",
              "        const docLinkHtml = 'Like what you see? Visit the ' +\n",
              "          '<a target=\"_blank\" href=https://colab.research.google.com/notebooks/data_table.ipynb>data table notebook</a>'\n",
              "          + ' to learn more about interactive tables.';\n",
              "        element.innerHTML = '';\n",
              "        dataTable['output_type'] = 'display_data';\n",
              "        await google.colab.output.renderOutput(dataTable, element);\n",
              "        const docLink = document.createElement('div');\n",
              "        docLink.innerHTML = docLinkHtml;\n",
              "        element.appendChild(docLink);\n",
              "      }\n",
              "    </script>\n",
              "  </div>\n",
              "\n",
              "\n",
              "<div id=\"df-6fb10ccd-27da-49e0-94c3-dc1ccef06f34\">\n",
              "  <button class=\"colab-df-quickchart\" onclick=\"quickchart('df-6fb10ccd-27da-49e0-94c3-dc1ccef06f34')\"\n",
              "            title=\"Suggest charts\"\n",
              "            style=\"display:none;\">\n",
              "\n",
              "<svg xmlns=\"http://www.w3.org/2000/svg\" height=\"24px\"viewBox=\"0 0 24 24\"\n",
              "     width=\"24px\">\n",
              "    <g>\n",
              "        <path d=\"M19 3H5c-1.1 0-2 .9-2 2v14c0 1.1.9 2 2 2h14c1.1 0 2-.9 2-2V5c0-1.1-.9-2-2-2zM9 17H7v-7h2v7zm4 0h-2V7h2v10zm4 0h-2v-4h2v4z\"/>\n",
              "    </g>\n",
              "</svg>\n",
              "  </button>\n",
              "\n",
              "<style>\n",
              "  .colab-df-quickchart {\n",
              "      --bg-color: #E8F0FE;\n",
              "      --fill-color: #1967D2;\n",
              "      --hover-bg-color: #E2EBFA;\n",
              "      --hover-fill-color: #174EA6;\n",
              "      --disabled-fill-color: #AAA;\n",
              "      --disabled-bg-color: #DDD;\n",
              "  }\n",
              "\n",
              "  [theme=dark] .colab-df-quickchart {\n",
              "      --bg-color: #3B4455;\n",
              "      --fill-color: #D2E3FC;\n",
              "      --hover-bg-color: #434B5C;\n",
              "      --hover-fill-color: #FFFFFF;\n",
              "      --disabled-bg-color: #3B4455;\n",
              "      --disabled-fill-color: #666;\n",
              "  }\n",
              "\n",
              "  .colab-df-quickchart {\n",
              "    background-color: var(--bg-color);\n",
              "    border: none;\n",
              "    border-radius: 50%;\n",
              "    cursor: pointer;\n",
              "    display: none;\n",
              "    fill: var(--fill-color);\n",
              "    height: 32px;\n",
              "    padding: 0;\n",
              "    width: 32px;\n",
              "  }\n",
              "\n",
              "  .colab-df-quickchart:hover {\n",
              "    background-color: var(--hover-bg-color);\n",
              "    box-shadow: 0 1px 2px rgba(60, 64, 67, 0.3), 0 1px 3px 1px rgba(60, 64, 67, 0.15);\n",
              "    fill: var(--button-hover-fill-color);\n",
              "  }\n",
              "\n",
              "  .colab-df-quickchart-complete:disabled,\n",
              "  .colab-df-quickchart-complete:disabled:hover {\n",
              "    background-color: var(--disabled-bg-color);\n",
              "    fill: var(--disabled-fill-color);\n",
              "    box-shadow: none;\n",
              "  }\n",
              "\n",
              "  .colab-df-spinner {\n",
              "    border: 2px solid var(--fill-color);\n",
              "    border-color: transparent;\n",
              "    border-bottom-color: var(--fill-color);\n",
              "    animation:\n",
              "      spin 1s steps(1) infinite;\n",
              "  }\n",
              "\n",
              "  @keyframes spin {\n",
              "    0% {\n",
              "      border-color: transparent;\n",
              "      border-bottom-color: var(--fill-color);\n",
              "      border-left-color: var(--fill-color);\n",
              "    }\n",
              "    20% {\n",
              "      border-color: transparent;\n",
              "      border-left-color: var(--fill-color);\n",
              "      border-top-color: var(--fill-color);\n",
              "    }\n",
              "    30% {\n",
              "      border-color: transparent;\n",
              "      border-left-color: var(--fill-color);\n",
              "      border-top-color: var(--fill-color);\n",
              "      border-right-color: var(--fill-color);\n",
              "    }\n",
              "    40% {\n",
              "      border-color: transparent;\n",
              "      border-right-color: var(--fill-color);\n",
              "      border-top-color: var(--fill-color);\n",
              "    }\n",
              "    60% {\n",
              "      border-color: transparent;\n",
              "      border-right-color: var(--fill-color);\n",
              "    }\n",
              "    80% {\n",
              "      border-color: transparent;\n",
              "      border-right-color: var(--fill-color);\n",
              "      border-bottom-color: var(--fill-color);\n",
              "    }\n",
              "    90% {\n",
              "      border-color: transparent;\n",
              "      border-bottom-color: var(--fill-color);\n",
              "    }\n",
              "  }\n",
              "</style>\n",
              "\n",
              "  <script>\n",
              "    async function quickchart(key) {\n",
              "      const quickchartButtonEl =\n",
              "        document.querySelector('#' + key + ' button');\n",
              "      quickchartButtonEl.disabled = true;  // To prevent multiple clicks.\n",
              "      quickchartButtonEl.classList.add('colab-df-spinner');\n",
              "      try {\n",
              "        const charts = await google.colab.kernel.invokeFunction(\n",
              "            'suggestCharts', [key], {});\n",
              "      } catch (error) {\n",
              "        console.error('Error during call to suggestCharts:', error);\n",
              "      }\n",
              "      quickchartButtonEl.classList.remove('colab-df-spinner');\n",
              "      quickchartButtonEl.classList.add('colab-df-quickchart-complete');\n",
              "    }\n",
              "    (() => {\n",
              "      let quickchartButtonEl =\n",
              "        document.querySelector('#df-6fb10ccd-27da-49e0-94c3-dc1ccef06f34 button');\n",
              "      quickchartButtonEl.style.display =\n",
              "        google.colab.kernel.accessAllowed ? 'block' : 'none';\n",
              "    })();\n",
              "  </script>\n",
              "</div>\n",
              "\n",
              "    </div>\n",
              "  </div>\n"
            ],
            "application/vnd.google.colaboratory.intrinsic+json": {
              "type": "dataframe",
              "summary": "{\n  \"name\": \"hm1\",\n  \"rows\": 5,\n  \"fields\": [\n    {\n      \"column\": \"Unnamed: 0\",\n      \"properties\": {\n        \"dtype\": \"number\",\n        \"std\": 1,\n        \"min\": 9672,\n        \"max\": 9676,\n        \"num_unique_values\": 5,\n        \"samples\": [\n          9673,\n          9676,\n          9674\n        ],\n        \"semantic_type\": \"\",\n        \"description\": \"\"\n      }\n    },\n    {\n      \"column\": \"productId\",\n      \"properties\": {\n        \"dtype\": \"number\",\n        \"std\": 16052871,\n        \"min\": 1198343002,\n        \"max\": 1232588003,\n        \"num_unique_values\": 5,\n        \"samples\": [\n          1198343002,\n          1227825002,\n          1232588003\n        ],\n        \"semantic_type\": \"\",\n        \"description\": \"\"\n      }\n    },\n    {\n      \"column\": \"productName\",\n      \"properties\": {\n        \"dtype\": \"string\",\n        \"num_unique_values\": 5,\n        \"samples\": [\n          \"Bootcut High Jeans\",\n          \"Padded Balconette Bikini Top\",\n          \"Lace Push-up Bra\"\n        ],\n        \"semantic_type\": \"\",\n        \"description\": \"\"\n      }\n    },\n    {\n      \"column\": \"brandName\",\n      \"properties\": {\n        \"dtype\": \"category\",\n        \"num_unique_values\": 1,\n        \"samples\": [\n          \"H&M\"\n        ],\n        \"semantic_type\": \"\",\n        \"description\": \"\"\n      }\n    },\n    {\n      \"column\": \"url\",\n      \"properties\": {\n        \"dtype\": \"string\",\n        \"num_unique_values\": 5,\n        \"samples\": [\n          \"https://www2.hm.com/en_us/productpage.1198343002.html\"\n        ],\n        \"semantic_type\": \"\",\n        \"description\": \"\"\n      }\n    },\n    {\n      \"column\": \"price\",\n      \"properties\": {\n        \"dtype\": \"number\",\n        \"std\": 9.555103348473006,\n        \"min\": 17.99,\n        \"max\": 39.99,\n        \"num_unique_values\": 5,\n        \"samples\": [\n          39.99\n        ],\n        \"semantic_type\": \"\",\n        \"description\": \"\"\n      }\n    },\n    {\n      \"column\": \"stockState\",\n      \"properties\": {\n        \"dtype\": \"category\",\n        \"num_unique_values\": 1,\n        \"samples\": [\n          \"Available\"\n        ],\n        \"semantic_type\": \"\",\n        \"description\": \"\"\n      }\n    },\n    {\n      \"column\": \"comingSoon\",\n      \"properties\": {\n        \"dtype\": \"boolean\",\n        \"num_unique_values\": 1,\n        \"samples\": [\n          false\n        ],\n        \"semantic_type\": \"\",\n        \"description\": \"\"\n      }\n    },\n    {\n      \"column\": \"colorName\",\n      \"properties\": {\n        \"dtype\": \"string\",\n        \"num_unique_values\": 5,\n        \"samples\": [\n          \"Light denim blue\"\n        ],\n        \"semantic_type\": \"\",\n        \"description\": \"\"\n      }\n    },\n    {\n      \"column\": \"isOnline\",\n      \"properties\": {\n        \"dtype\": \"boolean\",\n        \"num_unique_values\": 1,\n        \"samples\": [\n          true\n        ],\n        \"semantic_type\": \"\",\n        \"description\": \"\"\n      }\n    },\n    {\n      \"column\": \"colors\",\n      \"properties\": {\n        \"dtype\": \"string\",\n        \"num_unique_values\": 5,\n        \"samples\": [\n          \"79829D\"\n        ],\n        \"semantic_type\": \"\",\n        \"description\": \"\"\n      }\n    },\n    {\n      \"column\": \"colorShades\",\n      \"properties\": {\n        \"dtype\": \"string\",\n        \"num_unique_values\": 3,\n        \"samples\": [\n          \"Ecru|Taupe|Wheat\"\n        ],\n        \"semantic_type\": \"\",\n        \"description\": \"\"\n      }\n    },\n    {\n      \"column\": \"newArrival\",\n      \"properties\": {\n        \"dtype\": \"boolean\",\n        \"num_unique_values\": 1,\n        \"samples\": [\n          false\n        ],\n        \"semantic_type\": \"\",\n        \"description\": \"\"\n      }\n    },\n    {\n      \"column\": \"mainCatCode\",\n      \"properties\": {\n        \"dtype\": \"string\",\n        \"num_unique_values\": 5,\n        \"samples\": [\n          \"ladies_jeans_bootcut\"\n        ],\n        \"semantic_type\": \"\",\n        \"description\": \"\"\n      }\n    },\n    {\n      \"column\": \"details\",\n      \"properties\": {\n        \"dtype\": \"string\",\n        \"num_unique_values\": 5,\n        \"samples\": [\n          \"5-pocket, bootcut jeans in cotton denim with gentle stretch for good comfort. High waist and zip fly with button. Regular length, designed to fall at top of foot with little or no stacking. A defining shape from season to season.\\nArt. No.:1198343002\\nModel size:\\nThe model is 175cm/5'9\\\" and wears a size 10\\nLength:\\nLong\\nWaist Rise:\\nHigh waist\\nFit:\\nRegular fit\\nStyle:\\nBootcut\\nDescription:\\nLight denim blue, Solid-color\\nImported:\\nYes\\nConcept:\\nDENIM\"\n        ],\n        \"semantic_type\": \"\",\n        \"description\": \"\"\n      }\n    },\n    {\n      \"column\": \"materials\",\n      \"properties\": {\n        \"dtype\": \"string\",\n        \"num_unique_values\": 5,\n        \"samples\": [\n          \"COMPOSITION\\nShell:Cotton 99%, Spandex 1%\\nPadding:Polyester 65%, Cotton 35% , ADDITIONAL MATERIAL INFORMATION\\nThe total weight of this product contains:\\n62% Recycled polyester\\nWe exclude the weight of minor components such as, but not exclusively: threads, buttons, zippers, embellishments and prints.\\nThe total weight of the product is calculated by adding the weight of all layers and main components together. Based on that, we calculate how much of that weight is made out by each material. For sets and multipacks, all pieces are counted together as one product in calculations. , We exclude the weight of minor components such as, but not exclusively: threads, buttons, zippers, embellishments and prints.\\nThe total weight of the product is calculated by adding the weight of all layers and main components together. Based on that, we calculate how much of that weight is made out by each material. For sets and multipacks, all pieces are counted together as one product in calculations. , Material:\\nCotton, Denim , MATERIALS IN THIS PRODUCT EXPLAINED\\nCotton\\nCotton is a soft and versatile natural fiber harvested from the cotton plant.\\nPolyester\\nPolyester is a synthetic fiber made from crude oil (a fossil resource).\\nRecycled polyester\\nRecycled polyester is polyester made from PET bottles or end-of-life textile waste. The PET bottles or textile waste is mechanically recycled and processed into new yarn.\\nSpandex\\nElastane is an elastic synthetic fiber made from oil (a fossil resource). , Cotton\\nCotton is a soft and versatile natural fiber harvested from the cotton plant. , Polyester\\nPolyester is a synthetic fiber made from crude oil (a fossil resource). , Recycled polyester\\nRecycled polyester is polyester made from PET bottles or end-of-life textile waste. The PET bottles or textile waste is mechanically recycled and processed into new yarn. , Spandex\\nElastane is an elastic synthetic fiber made from oil (a fossil resource).\"\n        ],\n        \"semantic_type\": \"\",\n        \"description\": \"\"\n      }\n    }\n  ]\n}"
            }
          },
          "metadata": {},
          "execution_count": 2
        }
      ]
    },
    {
      "cell_type": "markdown",
      "source": [
        "Deskripsi\n",
        "Memuat dataset H&M dari URL dan menampilkan 5 baris pertama dan terakhir untuk memeriksa struktur data.\n",
        "Dataset berisi informasi produk seperti productId, price, colorName, mainCatCode, dll."
      ],
      "metadata": {
        "id": "Jq9epT0_YDPW"
      }
    },
    {
      "cell_type": "markdown",
      "source": [],
      "metadata": {
        "id": "nrP3V6w9WyXe"
      }
    },
    {
      "cell_type": "markdown",
      "source": [
        "## Univariate Explorasi Data Analysis"
      ],
      "metadata": {
        "id": "Ix_Sj_G6fdXc"
      }
    },
    {
      "cell_type": "code",
      "source": [
        "print(hm1.info())"
      ],
      "metadata": {
        "colab": {
          "base_uri": "https://localhost:8080/"
        },
        "id": "96l6R4kZ3H3O",
        "outputId": "694c0d77-43e8-49e9-e39a-71d259b258f7"
      },
      "execution_count": 3,
      "outputs": [
        {
          "output_type": "stream",
          "name": "stdout",
          "text": [
            "<class 'pandas.core.frame.DataFrame'>\n",
            "RangeIndex: 9677 entries, 0 to 9676\n",
            "Data columns (total 16 columns):\n",
            " #   Column       Non-Null Count  Dtype  \n",
            "---  ------       --------------  -----  \n",
            " 0   Unnamed: 0   9677 non-null   int64  \n",
            " 1   productId    9677 non-null   int64  \n",
            " 2   productName  9677 non-null   object \n",
            " 3   brandName    9677 non-null   object \n",
            " 4   url          9677 non-null   object \n",
            " 5   price        9677 non-null   float64\n",
            " 6   stockState   9677 non-null   object \n",
            " 7   comingSoon   9677 non-null   bool   \n",
            " 8   colorName    9677 non-null   object \n",
            " 9   isOnline     9677 non-null   bool   \n",
            " 10  colors       9677 non-null   object \n",
            " 11  colorShades  6511 non-null   object \n",
            " 12  newArrival   9677 non-null   bool   \n",
            " 13  mainCatCode  9677 non-null   object \n",
            " 14  details      9676 non-null   object \n",
            " 15  materials    9518 non-null   object \n",
            "dtypes: bool(3), float64(1), int64(2), object(10)\n",
            "memory usage: 1011.3+ KB\n",
            "None\n"
          ]
        }
      ]
    },
    {
      "cell_type": "markdown",
      "source": [
        "Deskripsi : menampilkan informasi tentang jumlah baris, kolom, tipe data, dan memori yang digunakan."
      ],
      "metadata": {
        "id": "Jj9sN-gEW5h9"
      }
    },
    {
      "cell_type": "code",
      "source": [
        "hm1.describe()"
      ],
      "metadata": {
        "colab": {
          "base_uri": "https://localhost:8080/",
          "height": 300
        },
        "id": "SA4Zrojg4Z8M",
        "outputId": "1861b7dc-4677-4835-f925-20407cb1e5b0"
      },
      "execution_count": 4,
      "outputs": [
        {
          "output_type": "execute_result",
          "data": {
            "text/plain": [
              "        Unnamed: 0     productId        price\n",
              "count  9677.000000  9.677000e+03  9677.000000\n",
              "mean   4838.000000  1.188702e+09    34.215088\n",
              "std    2793.653611  1.206040e+08    28.262665\n",
              "min       0.000000  1.077270e+08     3.990000\n",
              "25%    2419.000000  1.198945e+09    18.990000\n",
              "50%    4838.000000  1.230524e+09    29.990000\n",
              "75%    7257.000000  1.244770e+09    39.990000\n",
              "max    9676.000000  1.280785e+09   469.000000"
            ],
            "text/html": [
              "\n",
              "  <div id=\"df-569f030c-f07f-40bf-b62c-dd6e56ea915b\" class=\"colab-df-container\">\n",
              "    <div>\n",
              "<style scoped>\n",
              "    .dataframe tbody tr th:only-of-type {\n",
              "        vertical-align: middle;\n",
              "    }\n",
              "\n",
              "    .dataframe tbody tr th {\n",
              "        vertical-align: top;\n",
              "    }\n",
              "\n",
              "    .dataframe thead th {\n",
              "        text-align: right;\n",
              "    }\n",
              "</style>\n",
              "<table border=\"1\" class=\"dataframe\">\n",
              "  <thead>\n",
              "    <tr style=\"text-align: right;\">\n",
              "      <th></th>\n",
              "      <th>Unnamed: 0</th>\n",
              "      <th>productId</th>\n",
              "      <th>price</th>\n",
              "    </tr>\n",
              "  </thead>\n",
              "  <tbody>\n",
              "    <tr>\n",
              "      <th>count</th>\n",
              "      <td>9677.000000</td>\n",
              "      <td>9.677000e+03</td>\n",
              "      <td>9677.000000</td>\n",
              "    </tr>\n",
              "    <tr>\n",
              "      <th>mean</th>\n",
              "      <td>4838.000000</td>\n",
              "      <td>1.188702e+09</td>\n",
              "      <td>34.215088</td>\n",
              "    </tr>\n",
              "    <tr>\n",
              "      <th>std</th>\n",
              "      <td>2793.653611</td>\n",
              "      <td>1.206040e+08</td>\n",
              "      <td>28.262665</td>\n",
              "    </tr>\n",
              "    <tr>\n",
              "      <th>min</th>\n",
              "      <td>0.000000</td>\n",
              "      <td>1.077270e+08</td>\n",
              "      <td>3.990000</td>\n",
              "    </tr>\n",
              "    <tr>\n",
              "      <th>25%</th>\n",
              "      <td>2419.000000</td>\n",
              "      <td>1.198945e+09</td>\n",
              "      <td>18.990000</td>\n",
              "    </tr>\n",
              "    <tr>\n",
              "      <th>50%</th>\n",
              "      <td>4838.000000</td>\n",
              "      <td>1.230524e+09</td>\n",
              "      <td>29.990000</td>\n",
              "    </tr>\n",
              "    <tr>\n",
              "      <th>75%</th>\n",
              "      <td>7257.000000</td>\n",
              "      <td>1.244770e+09</td>\n",
              "      <td>39.990000</td>\n",
              "    </tr>\n",
              "    <tr>\n",
              "      <th>max</th>\n",
              "      <td>9676.000000</td>\n",
              "      <td>1.280785e+09</td>\n",
              "      <td>469.000000</td>\n",
              "    </tr>\n",
              "  </tbody>\n",
              "</table>\n",
              "</div>\n",
              "    <div class=\"colab-df-buttons\">\n",
              "\n",
              "  <div class=\"colab-df-container\">\n",
              "    <button class=\"colab-df-convert\" onclick=\"convertToInteractive('df-569f030c-f07f-40bf-b62c-dd6e56ea915b')\"\n",
              "            title=\"Convert this dataframe to an interactive table.\"\n",
              "            style=\"display:none;\">\n",
              "\n",
              "  <svg xmlns=\"http://www.w3.org/2000/svg\" height=\"24px\" viewBox=\"0 -960 960 960\">\n",
              "    <path d=\"M120-120v-720h720v720H120Zm60-500h600v-160H180v160Zm220 220h160v-160H400v160Zm0 220h160v-160H400v160ZM180-400h160v-160H180v160Zm440 0h160v-160H620v160ZM180-180h160v-160H180v160Zm440 0h160v-160H620v160Z\"/>\n",
              "  </svg>\n",
              "    </button>\n",
              "\n",
              "  <style>\n",
              "    .colab-df-container {\n",
              "      display:flex;\n",
              "      gap: 12px;\n",
              "    }\n",
              "\n",
              "    .colab-df-convert {\n",
              "      background-color: #E8F0FE;\n",
              "      border: none;\n",
              "      border-radius: 50%;\n",
              "      cursor: pointer;\n",
              "      display: none;\n",
              "      fill: #1967D2;\n",
              "      height: 32px;\n",
              "      padding: 0 0 0 0;\n",
              "      width: 32px;\n",
              "    }\n",
              "\n",
              "    .colab-df-convert:hover {\n",
              "      background-color: #E2EBFA;\n",
              "      box-shadow: 0px 1px 2px rgba(60, 64, 67, 0.3), 0px 1px 3px 1px rgba(60, 64, 67, 0.15);\n",
              "      fill: #174EA6;\n",
              "    }\n",
              "\n",
              "    .colab-df-buttons div {\n",
              "      margin-bottom: 4px;\n",
              "    }\n",
              "\n",
              "    [theme=dark] .colab-df-convert {\n",
              "      background-color: #3B4455;\n",
              "      fill: #D2E3FC;\n",
              "    }\n",
              "\n",
              "    [theme=dark] .colab-df-convert:hover {\n",
              "      background-color: #434B5C;\n",
              "      box-shadow: 0px 1px 3px 1px rgba(0, 0, 0, 0.15);\n",
              "      filter: drop-shadow(0px 1px 2px rgba(0, 0, 0, 0.3));\n",
              "      fill: #FFFFFF;\n",
              "    }\n",
              "  </style>\n",
              "\n",
              "    <script>\n",
              "      const buttonEl =\n",
              "        document.querySelector('#df-569f030c-f07f-40bf-b62c-dd6e56ea915b button.colab-df-convert');\n",
              "      buttonEl.style.display =\n",
              "        google.colab.kernel.accessAllowed ? 'block' : 'none';\n",
              "\n",
              "      async function convertToInteractive(key) {\n",
              "        const element = document.querySelector('#df-569f030c-f07f-40bf-b62c-dd6e56ea915b');\n",
              "        const dataTable =\n",
              "          await google.colab.kernel.invokeFunction('convertToInteractive',\n",
              "                                                    [key], {});\n",
              "        if (!dataTable) return;\n",
              "\n",
              "        const docLinkHtml = 'Like what you see? Visit the ' +\n",
              "          '<a target=\"_blank\" href=https://colab.research.google.com/notebooks/data_table.ipynb>data table notebook</a>'\n",
              "          + ' to learn more about interactive tables.';\n",
              "        element.innerHTML = '';\n",
              "        dataTable['output_type'] = 'display_data';\n",
              "        await google.colab.output.renderOutput(dataTable, element);\n",
              "        const docLink = document.createElement('div');\n",
              "        docLink.innerHTML = docLinkHtml;\n",
              "        element.appendChild(docLink);\n",
              "      }\n",
              "    </script>\n",
              "  </div>\n",
              "\n",
              "\n",
              "<div id=\"df-6133aa6c-12ae-4efc-beff-4aacb78d17c9\">\n",
              "  <button class=\"colab-df-quickchart\" onclick=\"quickchart('df-6133aa6c-12ae-4efc-beff-4aacb78d17c9')\"\n",
              "            title=\"Suggest charts\"\n",
              "            style=\"display:none;\">\n",
              "\n",
              "<svg xmlns=\"http://www.w3.org/2000/svg\" height=\"24px\"viewBox=\"0 0 24 24\"\n",
              "     width=\"24px\">\n",
              "    <g>\n",
              "        <path d=\"M19 3H5c-1.1 0-2 .9-2 2v14c0 1.1.9 2 2 2h14c1.1 0 2-.9 2-2V5c0-1.1-.9-2-2-2zM9 17H7v-7h2v7zm4 0h-2V7h2v10zm4 0h-2v-4h2v4z\"/>\n",
              "    </g>\n",
              "</svg>\n",
              "  </button>\n",
              "\n",
              "<style>\n",
              "  .colab-df-quickchart {\n",
              "      --bg-color: #E8F0FE;\n",
              "      --fill-color: #1967D2;\n",
              "      --hover-bg-color: #E2EBFA;\n",
              "      --hover-fill-color: #174EA6;\n",
              "      --disabled-fill-color: #AAA;\n",
              "      --disabled-bg-color: #DDD;\n",
              "  }\n",
              "\n",
              "  [theme=dark] .colab-df-quickchart {\n",
              "      --bg-color: #3B4455;\n",
              "      --fill-color: #D2E3FC;\n",
              "      --hover-bg-color: #434B5C;\n",
              "      --hover-fill-color: #FFFFFF;\n",
              "      --disabled-bg-color: #3B4455;\n",
              "      --disabled-fill-color: #666;\n",
              "  }\n",
              "\n",
              "  .colab-df-quickchart {\n",
              "    background-color: var(--bg-color);\n",
              "    border: none;\n",
              "    border-radius: 50%;\n",
              "    cursor: pointer;\n",
              "    display: none;\n",
              "    fill: var(--fill-color);\n",
              "    height: 32px;\n",
              "    padding: 0;\n",
              "    width: 32px;\n",
              "  }\n",
              "\n",
              "  .colab-df-quickchart:hover {\n",
              "    background-color: var(--hover-bg-color);\n",
              "    box-shadow: 0 1px 2px rgba(60, 64, 67, 0.3), 0 1px 3px 1px rgba(60, 64, 67, 0.15);\n",
              "    fill: var(--button-hover-fill-color);\n",
              "  }\n",
              "\n",
              "  .colab-df-quickchart-complete:disabled,\n",
              "  .colab-df-quickchart-complete:disabled:hover {\n",
              "    background-color: var(--disabled-bg-color);\n",
              "    fill: var(--disabled-fill-color);\n",
              "    box-shadow: none;\n",
              "  }\n",
              "\n",
              "  .colab-df-spinner {\n",
              "    border: 2px solid var(--fill-color);\n",
              "    border-color: transparent;\n",
              "    border-bottom-color: var(--fill-color);\n",
              "    animation:\n",
              "      spin 1s steps(1) infinite;\n",
              "  }\n",
              "\n",
              "  @keyframes spin {\n",
              "    0% {\n",
              "      border-color: transparent;\n",
              "      border-bottom-color: var(--fill-color);\n",
              "      border-left-color: var(--fill-color);\n",
              "    }\n",
              "    20% {\n",
              "      border-color: transparent;\n",
              "      border-left-color: var(--fill-color);\n",
              "      border-top-color: var(--fill-color);\n",
              "    }\n",
              "    30% {\n",
              "      border-color: transparent;\n",
              "      border-left-color: var(--fill-color);\n",
              "      border-top-color: var(--fill-color);\n",
              "      border-right-color: var(--fill-color);\n",
              "    }\n",
              "    40% {\n",
              "      border-color: transparent;\n",
              "      border-right-color: var(--fill-color);\n",
              "      border-top-color: var(--fill-color);\n",
              "    }\n",
              "    60% {\n",
              "      border-color: transparent;\n",
              "      border-right-color: var(--fill-color);\n",
              "    }\n",
              "    80% {\n",
              "      border-color: transparent;\n",
              "      border-right-color: var(--fill-color);\n",
              "      border-bottom-color: var(--fill-color);\n",
              "    }\n",
              "    90% {\n",
              "      border-color: transparent;\n",
              "      border-bottom-color: var(--fill-color);\n",
              "    }\n",
              "  }\n",
              "</style>\n",
              "\n",
              "  <script>\n",
              "    async function quickchart(key) {\n",
              "      const quickchartButtonEl =\n",
              "        document.querySelector('#' + key + ' button');\n",
              "      quickchartButtonEl.disabled = true;  // To prevent multiple clicks.\n",
              "      quickchartButtonEl.classList.add('colab-df-spinner');\n",
              "      try {\n",
              "        const charts = await google.colab.kernel.invokeFunction(\n",
              "            'suggestCharts', [key], {});\n",
              "      } catch (error) {\n",
              "        console.error('Error during call to suggestCharts:', error);\n",
              "      }\n",
              "      quickchartButtonEl.classList.remove('colab-df-spinner');\n",
              "      quickchartButtonEl.classList.add('colab-df-quickchart-complete');\n",
              "    }\n",
              "    (() => {\n",
              "      let quickchartButtonEl =\n",
              "        document.querySelector('#df-6133aa6c-12ae-4efc-beff-4aacb78d17c9 button');\n",
              "      quickchartButtonEl.style.display =\n",
              "        google.colab.kernel.accessAllowed ? 'block' : 'none';\n",
              "    })();\n",
              "  </script>\n",
              "</div>\n",
              "\n",
              "    </div>\n",
              "  </div>\n"
            ],
            "application/vnd.google.colaboratory.intrinsic+json": {
              "type": "dataframe",
              "summary": "{\n  \"name\": \"hm1\",\n  \"rows\": 8,\n  \"fields\": [\n    {\n      \"column\": \"Unnamed: 0\",\n      \"properties\": {\n        \"dtype\": \"number\",\n        \"std\": 3487.418653552804,\n        \"min\": 0.0,\n        \"max\": 9677.0,\n        \"num_unique_values\": 7,\n        \"samples\": [\n          9677.0,\n          4838.0,\n          7257.0\n        ],\n        \"semantic_type\": \"\",\n        \"description\": \"\"\n      }\n    },\n    {\n      \"column\": \"productId\",\n      \"properties\": {\n        \"dtype\": \"number\",\n        \"std\": 598244974.0752865,\n        \"min\": 9677.0,\n        \"max\": 1280785002.0,\n        \"num_unique_values\": 8,\n        \"samples\": [\n          1188701625.9199133,\n          1230524001.0,\n          9677.0\n        ],\n        \"semantic_type\": \"\",\n        \"description\": \"\"\n      }\n    },\n    {\n      \"column\": \"price\",\n      \"properties\": {\n        \"dtype\": \"number\",\n        \"std\": 3393.3586842195023,\n        \"min\": 3.99,\n        \"max\": 9677.0,\n        \"num_unique_values\": 8,\n        \"samples\": [\n          34.21508835382867,\n          29.99,\n          9677.0\n        ],\n        \"semantic_type\": \"\",\n        \"description\": \"\"\n      }\n    }\n  ]\n}"
            }
          },
          "metadata": {},
          "execution_count": 4
        }
      ]
    },
    {
      "cell_type": "markdown",
      "source": [
        "Deskripsi : memberikan statistik deskriptif (seperti rata-rata, minimum, maksimum) untuk kolom numerik."
      ],
      "metadata": {
        "id": "u-nlEYxFXHBN"
      }
    },
    {
      "cell_type": "code",
      "source": [
        "# Mengecek nilai yang hilang\n",
        "print(\"\\nJumlah Nilai yang Hilang per Kolom:\")\n",
        "print(hm1.isnull().sum())"
      ],
      "metadata": {
        "colab": {
          "base_uri": "https://localhost:8080/"
        },
        "id": "L12uJR35HTNH",
        "outputId": "5b5651ae-d8b2-4644-8e19-e99ee184dde5"
      },
      "execution_count": 5,
      "outputs": [
        {
          "output_type": "stream",
          "name": "stdout",
          "text": [
            "\n",
            "Jumlah Nilai yang Hilang per Kolom:\n",
            "Unnamed: 0        0\n",
            "productId         0\n",
            "productName       0\n",
            "brandName         0\n",
            "url               0\n",
            "price             0\n",
            "stockState        0\n",
            "comingSoon        0\n",
            "colorName         0\n",
            "isOnline          0\n",
            "colors            0\n",
            "colorShades    3166\n",
            "newArrival        0\n",
            "mainCatCode       0\n",
            "details           1\n",
            "materials       159\n",
            "dtype: int64\n"
          ]
        }
      ]
    },
    {
      "cell_type": "markdown",
      "source": [
        "Deskripsi : memeriksa jumlah nilai yang hilang di setiap kolom untuk mengetahui kualitas data."
      ],
      "metadata": {
        "id": "9z02CcG7XMY1"
      }
    },
    {
      "cell_type": "code",
      "source": [
        "# 1. Identifikasi kolom numerik dan kategorikal\n",
        "numeric_cols = ['price']\n",
        "categorical_cols = ['stockState', 'comingSoon', 'colorName', 'isOnline', 'newArrival', 'mainCatCode']\n",
        "\n",
        "print(\"Kolom Numerik:\", numeric_cols)\n",
        "print(\"Kolom Kategorikal:\", categorical_cols)"
      ],
      "metadata": {
        "colab": {
          "base_uri": "https://localhost:8080/"
        },
        "id": "6uXKjHE6QI9L",
        "outputId": "ef7c58b2-e2f6-4595-ca9d-71504899873f"
      },
      "execution_count": 6,
      "outputs": [
        {
          "output_type": "stream",
          "name": "stdout",
          "text": [
            "Kolom Numerik: ['price']\n",
            "Kolom Kategorikal: ['stockState', 'comingSoon', 'colorName', 'isOnline', 'newArrival', 'mainCatCode']\n"
          ]
        }
      ]
    },
    {
      "cell_type": "markdown",
      "source": [
        "Deskripsi :\n",
        "- Kolom kategorikal dipilih untuk analisis distribusi dan encoding di langkah berikutnya.\n",
        "- Pemisahan ini memudahkan analisis spesifik untuk setiap jenis data."
      ],
      "metadata": {
        "id": "l8OMh5rWXRLd"
      }
    },
    {
      "cell_type": "code",
      "source": [
        "# 2. Analisis Numerik: price\n",
        "print(\"\\nStatistik Deskriptif untuk Price:\")\n",
        "print(hm1['price'].describe())"
      ],
      "metadata": {
        "colab": {
          "base_uri": "https://localhost:8080/"
        },
        "id": "qU_n8W20QMbL",
        "outputId": "3a176076-dfa7-4b30-fac8-3655a639a76d"
      },
      "execution_count": 7,
      "outputs": [
        {
          "output_type": "stream",
          "name": "stdout",
          "text": [
            "\n",
            "Statistik Deskriptif untuk Price:\n",
            "count    9677.000000\n",
            "mean       34.215088\n",
            "std        28.262665\n",
            "min         3.990000\n",
            "25%        18.990000\n",
            "50%        29.990000\n",
            "75%        39.990000\n",
            "max       469.000000\n",
            "Name: price, dtype: float64\n"
          ]
        }
      ]
    },
    {
      "cell_type": "markdown",
      "source": [
        "Deskripsi :\n",
        "- hm1['price'].describe() memberikan statistik seperti rata-rata, median, minimum, dan maksimum untuk kolom price."
      ],
      "metadata": {
        "id": "eQgNxFCfXtT-"
      }
    },
    {
      "cell_type": "code",
      "source": [
        "# Histogram untuk price\n",
        "plt.figure(figsize=(8, 4))\n",
        "sns.histplot(hm1['price'], kde=True, bins=20)\n",
        "plt.title('Distribusi Harga (Price)')\n",
        "plt.xlabel('Harga ($)')\n",
        "plt.ylabel('Frekuensi')\n",
        "plt.show()"
      ],
      "metadata": {
        "colab": {
          "base_uri": "https://localhost:8080/",
          "height": 410
        },
        "id": "LGRWolF1QSg7",
        "outputId": "f11cfa12-0c5e-47ae-e76a-16a2fe0acf74"
      },
      "execution_count": 8,
      "outputs": [
        {
          "output_type": "display_data",
          "data": {
            "text/plain": [
              "<Figure size 800x400 with 1 Axes>"
            ],
            "image/png": "[encoded data removed]"
          },
          "metadata": {}
        }
      ]
    },
    {
      "cell_type": "markdown",
      "source": [
        "Deskripsi :\n",
        "- Histogram (sns.histplot) menunjukkan distribusi harga, dengan kurva KDE (Kernel Density Estimation) untuk memperkirakan kepadatan distribusi kolom price\n"
      ],
      "metadata": {
        "id": "lUQABLW-X2td"
      }
    },
    {
      "cell_type": "code",
      "source": [
        "# Boxplot untuk price\n",
        "plt.figure(figsize=(8, 4))\n",
        "sns.boxplot(x=hm1['price'])\n",
        "plt.title('Boxplot Harga (Price)')\n",
        "plt.xlabel('Harga ($)')\n",
        "plt.show()"
      ],
      "metadata": {
        "colab": {
          "base_uri": "https://localhost:8080/",
          "height": 410
        },
        "id": "5ERlA4xUQWPT",
        "outputId": "bec1a713-961b-465f-e13d-32c8b36d7f1d"
      },
      "execution_count": 9,
      "outputs": [
        {
          "output_type": "display_data",
          "data": {
            "text/plain": [
              "<Figure size 800x400 with 1 Axes>"
            ],
            "image/png": "[encoded data removed]"
          },
          "metadata": {}
        }
      ]
    },
    {
      "cell_type": "markdown",
      "source": [
        "Deskripsi :\n",
        "- Boxplot (sns.boxplot) mengidentifikasi outlier dan memberikan gambaran tentang penyebaran data (quartiles)."
      ],
      "metadata": {
        "id": "NWeN5--tYJTl"
      }
    },
    {
      "cell_type": "code",
      "source": [
        "# 3. Analisis Kategorikal\n",
        "for col in categorical_cols:\n",
        "    print(f\"\\nDistribusi untuk kolom: {col}\")\n",
        "    print(hm1[col].value_counts(dropna=False))\n",
        "\n",
        "    # Count plot (batasi jika terlalu banyak kategori)\n",
        "    plt.figure(figsize=(10, 5))\n",
        "    if hm1[col].nunique() <= 20:\n",
        "        sns.countplot(y=hm1[col], order=hm1[col].value_counts().index[:20])\n",
        "        plt.title(f'Distribusi {col}')\n",
        "        plt.xlabel('Jumlah')\n",
        "        plt.ylabel(col)\n",
        "        plt.show()\n",
        "    else:\n",
        "        print(f\"Kolom {col} memiliki terlalu banyak kategori ({hm1[col].nunique()}), visualisasi dilewati.\")\n"
      ],
      "metadata": {
        "colab": {
          "base_uri": "https://localhost:8080/",
          "height": 1000
        },
        "id": "-5TObd_MQsKD",
        "outputId": "ef4ccbf1-c29d-4f7f-f19c-5b6bee7e9377"
      },
      "execution_count": 10,
      "outputs": [
        {
          "output_type": "stream",
          "name": "stdout",
          "text": [
            "\n",
            "Distribusi untuk kolom: stockState\n",
            "stockState\n",
            "Available    9677\n",
            "Name: count, dtype: int64\n"
          ]
        },
        {
          "output_type": "display_data",
          "data": {
            "text/plain": [
              "<Figure size 1000x500 with 1 Axes>"
            ],
            "image/png": "[encoded data removed]"
          },
          "metadata": {}
        },
        {
          "output_type": "stream",
          "name": "stdout",
          "text": [
            "\n",
            "Distribusi untuk kolom: comingSoon\n",
            "comingSoon\n",
            "False    9677\n",
            "Name: count, dtype: int64\n"
          ]
        },
        {
          "output_type": "display_data",
          "data": {
            "text/plain": [
              "<Figure size 1000x500 with 1 Axes>"
            ],
            "image/png": "[encoded data removed]"
          },
          "metadata": {}
        },
        {
          "output_type": "stream",
          "name": "stdout",
          "text": [
            "\n",
            "Distribusi untuk kolom: colorName\n",
            "colorName\n",
            "Black                           2466\n",
            "White                            681\n",
            "Cream                            449\n",
            "Light beige                      398\n",
            "Dark gray                        313\n",
            "                                ... \n",
            "Light blue/pinstriped              1\n",
            "Light gray/Outkast                 1\n",
            "Blue/University of Cambridge       1\n",
            "Light blue/light beige             1\n",
            "Beige/ombre                        1\n",
            "Name: count, Length: 1031, dtype: int64\n",
            "Kolom colorName memiliki terlalu banyak kategori (1031), visualisasi dilewati.\n",
            "\n",
            "Distribusi untuk kolom: isOnline\n",
            "isOnline\n",
            "True    9677\n",
            "Name: count, dtype: int64\n"
          ]
        },
        {
          "output_type": "display_data",
          "data": {
            "text/plain": [
              "<Figure size 1000x500 with 0 Axes>"
            ]
          },
          "metadata": {}
        },
        {
          "output_type": "display_data",
          "data": {
            "text/plain": [
              "<Figure size 1000x500 with 1 Axes>"
            ],
            "image/png": "[encoded data removed]"
          },
          "metadata": {}
        },
        {
          "output_type": "stream",
          "name": "stdout",
          "text": [
            "\n",
            "Distribusi untuk kolom: newArrival\n",
            "newArrival\n",
            "False    8373\n",
            "True     1304\n",
            "Name: count, dtype: int64\n"
          ]
        },
        {
          "output_type": "display_data",
          "data": {
            "text/plain": [
              "<Figure size 1000x500 with 1 Axes>"
            ],
            "image/png": "[encoded data removed]"
          },
          "metadata": {}
        },
        {
          "output_type": "stream",
          "name": "stdout",
          "text": [
            "\n",
            "Distribusi untuk kolom: mainCatCode\n",
            "mainCatCode\n",
            "ladies_cardigansjumpers_jumpers          361\n",
            "men_shirts_casual                        250\n",
            "ladies_dresses_shortdresses              170\n",
            "ladies_tops_longsleeve                   164\n",
            "ladies_tops_shortsleeve                  162\n",
            "                                        ... \n",
            "sportswear_men_activity_hiking             1\n",
            "ladies_shoes                               1\n",
            "ladies_maternity_swimwear                  1\n",
            "sportswear_women_activity_watersports      1\n",
            "sportswear_women_clothing_tops_tanks       1\n",
            "Name: count, Length: 355, dtype: int64\n",
            "Kolom mainCatCode memiliki terlalu banyak kategori (355), visualisasi dilewati.\n"
          ]
        },
        {
          "output_type": "display_data",
          "data": {
            "text/plain": [
              "<Figure size 1000x500 with 0 Axes>"
            ]
          },
          "metadata": {}
        }
      ]
    },
    {
      "cell_type": "markdown",
      "source": [
        "Deskripsi :\n",
        "- Untuk setiap kolom kategorikal, value_counts(dropna=False) menampilkan distribusi nilai, termasuk nilai yang hilang.\n",
        "- sns.countplot membuat visualisasi batang untuk kolom dengan jumlah kategori unik ≤ 20, menunjukkan frekuensi setiap kategori.\n",
        "- Jika jumlah kategori > 20, visualisasi dilewati untuk menghindari plot yang terlalu padat.\n",
        "\n",
        "Alasan :\n",
        "- Analisis ini mengungkapkan distribusi kategori, misalnya, apakah beberapa warna atau kategori produk mendominasi\n",
        "- Batasan 20 kategori mencegah visualisasi yang tidak informatif untuk kolom seperti colorName yang mungkin memiliki banyak nilai unik.\n",
        "- Informasi ini penting untuk menentukan kolom mana yang relevan untuk encoding."
      ],
      "metadata": {
        "id": "FBLY07ZZYxuF"
      }
    },
    {
      "cell_type": "markdown",
      "source": [
        "## Data Preparation\n"
      ],
      "metadata": {
        "id": "_pX9rIMOYdjP"
      }
    },
    {
      "cell_type": "code",
      "source": [
        "# Langkah 1: Menangani Missing Values\n",
        "print(\"Jumlah Missing Values Sebelum Preprocessing:\")\n",
        "print(hm1.isnull().sum())\n",
        "\n",
        "# details: Isi dengan string kosong\n",
        "hm1['details'].fillna('', inplace=True)\n",
        "\n",
        "# materials: Isi dengan string kosong\n",
        "hm1['materials'].fillna('', inplace=True)\n",
        "\n",
        "# colorShades: Isi dengan 'Unknown'\n",
        "hm1['colorShades'].fillna('Unknown', inplace=True)\n",
        "\n",
        "# Verifikasi missing values setelah penanganan\n",
        "print(\"\\nJumlah Missing Values Setelah Penanganan:\")\n",
        "print(hm1.isnull().sum())"
      ],
      "metadata": {
        "colab": {
          "base_uri": "https://localhost:8080/"
        },
        "id": "nvrg_dylkwcw",
        "outputId": "d7544107-98e9-44f9-d2c9-a4afa2f61796"
      },
      "execution_count": 11,
      "outputs": [
        {
          "output_type": "stream",
          "name": "stdout",
          "text": [
            "Jumlah Missing Values Sebelum Preprocessing:\n",
            "Unnamed: 0        0\n",
            "productId         0\n",
            "productName       0\n",
            "brandName         0\n",
            "url               0\n",
            "price             0\n",
            "stockState        0\n",
            "comingSoon        0\n",
            "colorName         0\n",
            "isOnline          0\n",
            "colors            0\n",
            "colorShades    3166\n",
            "newArrival        0\n",
            "mainCatCode       0\n",
            "details           1\n",
            "materials       159\n",
            "dtype: int64\n",
            "\n",
            "Jumlah Missing Values Setelah Penanganan:\n",
            "Unnamed: 0     0\n",
            "productId      0\n",
            "productName    0\n",
            "brandName      0\n",
            "url            0\n",
            "price          0\n",
            "stockState     0\n",
            "comingSoon     0\n",
            "colorName      0\n",
            "isOnline       0\n",
            "colors         0\n",
            "colorShades    0\n",
            "newArrival     0\n",
            "mainCatCode    0\n",
            "details        0\n",
            "materials      0\n",
            "dtype: int64\n"
          ]
        }
      ]
    },
    {
      "cell_type": "markdown",
      "source": [
        "Deskripsi :\n",
        "- Pertama, kode memeriksa jumlah nilai yang hilang untuk setiap kolom.\n",
        "- Kolom details dan materials diisi dengan string kosong karena ini adalah kolom teks, dan string kosong cocok untuk analisis teks seperti TF-IDF.\n",
        "- Kolom colorShades diisi dengan 'Unknown' untuk mengisi missing values yang ada pada kolom ini\n",
        "- Pilihan pengisian (string kosong untuk teks, 'Unknown' untuk kategori) sesuai dengan sifat kolom."
      ],
      "metadata": {
        "id": "RdentPhBbNtM"
      }
    },
    {
      "cell_type": "code",
      "source": [
        "# Langkah 2: Memeriksa dan Menghapus Duplikasi\n",
        "print(\"\\nJumlah Duplikasi berdasarkan productId:\", hm1['productId'].duplicated().sum())\n",
        "hm1 = hm1.drop_duplicates(subset=['productId'], keep='first')"
      ],
      "metadata": {
        "colab": {
          "base_uri": "https://localhost:8080/"
        },
        "id": "ISu5oap6k2fw",
        "outputId": "c83f16a4-a943-44d2-8e2d-9a7e0b48f85d"
      },
      "execution_count": 12,
      "outputs": [
        {
          "output_type": "stream",
          "name": "stdout",
          "text": [
            "\n",
            "Jumlah Duplikasi berdasarkan productId: 2006\n"
          ]
        }
      ]
    },
    {
      "cell_type": "markdown",
      "source": [
        "Deskripsi :\n",
        "- hm1['productId'].duplicated().sum() menghitung jumlah baris dengan productId yang sama.\n",
        "- drop_duplicates menghapus duplikasi berdasarkan productId, menyimpan baris pertama yang ditemukan.\n",
        "\n",
        "Alasan :\n",
        "- Menghapus duplikasi memastikan bahwa setiap produk hanya diwakili sekali, yang penting untuk sistem rekomendasi\n"
      ],
      "metadata": {
        "id": "DER4kQNAeINb"
      }
    },
    {
      "cell_type": "code",
      "source": [
        "# Langkah 3: Menghapus Kolom Tidak Relevan\n",
        "cols_to_drop = ['Unnamed: 0', 'url', 'productName']\n",
        "# Periksa apakah kolom konstan\n",
        "for col in ['isOnline', 'comingSoon', 'stockState']:\n",
        "    if hm1[col].nunique() == 1:\n",
        "        cols_to_drop.append(col)\n",
        "        print(f\"Kolom {col} nilai konstan, akan dihapus.\")\n",
        "\n",
        "hm1 = hm1.drop(columns=cols_to_drop, errors='ignore')"
      ],
      "metadata": {
        "colab": {
          "base_uri": "https://localhost:8080/"
        },
        "id": "tcVvCyIzlFvB",
        "outputId": "86688d92-f461-470e-e6b5-90348f21f61d"
      },
      "execution_count": 13,
      "outputs": [
        {
          "output_type": "stream",
          "name": "stdout",
          "text": [
            "Kolom isOnline nilai konstan, akan dihapus.\n",
            "Kolom comingSoon nilai konstan, akan dihapus.\n",
            "Kolom stockState nilai konstan, akan dihapus.\n"
          ]
        }
      ]
    },
    {
      "cell_type": "markdown",
      "source": [
        "Deskripsi :\n",
        " - Kolom seperti Unnamed: 0 (indeks tambahan), url, dan productName dianggap tidak relevan untuk sistem rekomendasi dan dimasukkan ke daftar cols_to_drop.\n",
        " - Kode memeriksa apakah kolom isOnline, comingSoon, dan stockState memiliki nilai konstan (satu nilai unik). Jika ya, kolom tersebut ditambahkan ke cols_to_drop karena tidak memberikan informasi tambahan.\n",
        " - hm1.drop menghapus kolom-kolom ini, dengan errors='ignore' untuk mencegah error jika kolom tidak ada\n",
        "\n",
        " Alasan :\n",
        " - Menghapus kolom yang tidak relevan atau konstan mengurangi dimensi data dan meningkatkan efisiensi."
      ],
      "metadata": {
        "id": "1mIApkTKe0vK"
      }
    },
    {
      "cell_type": "code",
      "source": [
        "# Langkah 4: Encoding Variabel Kategorikal\n",
        "categorical_cols = ['colorName', 'mainCatCode', 'brandName', 'colorShades', 'newArrival']\n",
        "encoder = OneHotEncoder(sparse_output=False, handle_unknown='ignore')\n",
        "encoded_cats = encoder.fit_transform(hm1[categorical_cols])\n",
        "encoded_cats_df = pd.DataFrame(encoded_cats, columns=encoder.get_feature_names_out(categorical_cols))\n",
        "# Gabungkan dengan dataset\n",
        "hm1_encoded = pd.concat([hm1.reset_index(drop=True), encoded_cats_df.reset_index(drop=True)], axis=1)\n",
        "# Hapus kolom kategorikal asli\n",
        "hm1_encoded = hm1_encoded.drop(columns=categorical_cols)"
      ],
      "metadata": {
        "id": "2diZp9sOlLCI"
      },
      "execution_count": 14,
      "outputs": []
    },
    {
      "cell_type": "markdown",
      "source": [
        "Deskripsi :\n",
        "- Kolom kategorikal baru dipilih: colorName, mainCatCode, brandName, colorShades, newArrival.\n",
        "- OneHotEncoder mengubah setiap kategori menjadi kolom biner (0 atau 1). Parameter sparse_output=False menghasilkan array padat, dan handle_unknown='ignore' menangani kategori baru di data uji.\n",
        "- Hasil encoding disimpan dalam DataFrame encoded_cats_df dengan nama kolom yang mencerminkan kategori.\n",
        "- DataFrame asli (hm1) digabungkan dengan kolom hasil encoding, dan kolom kategorikal asli dihapus.\n",
        "\n",
        "Alasan :\n",
        "- One-Hot Encoding cocok untuk kolom kategorikal tanpa urutan, seperti warna atau merek.\n",
        "- Penghapusan kolom asli mencegah redundansi dan menjaga data tetap bersih.\n",
        "- Encoding meningkatkan dimensi data, yang bisa menjadi tantangan untuk dataset besar."
      ],
      "metadata": {
        "id": "1B-taQu0fQz5"
      }
    },
    {
      "cell_type": "code",
      "source": [
        "# Langkah 5: Standarisasi Kolom Numerik (price)\n",
        "scaler = StandardScaler()\n",
        "hm1_encoded['price_scaled'] = scaler.fit_transform(hm1[['price']])"
      ],
      "metadata": {
        "id": "udlY8JbPlYSI"
      },
      "execution_count": 15,
      "outputs": []
    },
    {
      "cell_type": "markdown",
      "source": [
        "Deskripsi :\n",
        "- StandardScaler menstandarisasi price sehingga memiliki rata-rata 0 dan standar deviasi 1.\n",
        "- Kolom hasilnya (price_scaled) ditambahkan ke hm1_encoded.\n",
        "\n",
        "Alasan :\n",
        "- Standarisasi penting untuk algoritma berbasis jarak seperti cosine similarity, agar fitur numerik tidak mendominasi karena skala yang berbeda.\n",
        "- Hanya price yang distandarisasi karena ini satu-satunya kolom numerik."
      ],
      "metadata": {
        "id": "_TOG_lCigW7B"
      }
    },
    {
      "cell_type": "code",
      "source": [
        "# Langkah 6: Feature Engineering\n",
        "# - Buat segmen harga\n",
        "hm1_encoded['price_segment'] = pd.cut(hm1['price'],\n",
        "                                     bins=[0, 30, 50, float('inf')],\n",
        "                                     labels=['Murah', 'Menengah', 'Premium'])\n",
        "\n",
        "# - Ekstraksi TF-IDF untuk details dan materials\n",
        "tfidf = TfidfVectorizer(max_features=100, stop_words='english')\n",
        "tfidf_details = tfidf.fit_transform(hm1['details'])\n",
        "tfidf_details_df = pd.DataFrame(tfidf_details.toarray(),\n",
        "                                columns=[f\"details_{f}\" for f in tfidf.get_feature_names_out()])\n",
        "\n",
        "tfidf_materials = tfidf.fit_transform(hm1['materials'])\n",
        "tfidf_materials_df = pd.DataFrame(tfidf_materials.toarray(),\n",
        "                                  columns=[f\"materials_{f}\" for f in tfidf.get_feature_names_out()])\n",
        "\n",
        "# Gabungkan fitur TF-IDF\n",
        "hm1_encoded = pd.concat([hm1_encoded.reset_index(drop=True),\n",
        "                         tfidf_details_df.reset_index(drop=True),\n",
        "                         tfidf_materials_df.reset_index(drop=True)], axis=1)"
      ],
      "metadata": {
        "id": "vO2-RPp2lfew"
      },
      "execution_count": 16,
      "outputs": []
    },
    {
      "cell_type": "markdown",
      "source": [
        "Deskripsi :\n",
        "- pd.cut mengelompokkan harga ke dalam tiga segmen: Murah (≤$30), Menengah ($30–$50), dan Premium (>$50).\n",
        "- Fitur baru price_segment ditambahkan ke hm1_encoded.\n",
        "- TfidfVectorizer mengubah teks dalam details dan materials menjadi vektor numerik berdasarkan pentingnya kata (TF-IDF). Parameter max_features=100 membatasi jumlah kata, dan stop_words='english' menghapus kata umum seperti \"the\".\n",
        "- Hasilnya adalah matriks sparse yang diubah menjadi DataFrame (tfidf_details_df dan tfidf_materials_df) dengan nama kolom yang mencerminkan kata.\n",
        "- DataFrame ini digabungkan dengan hm1_encoded."
      ],
      "metadata": {
        "id": "zxE_f2ngiq3Q"
      }
    },
    {
      "cell_type": "code",
      "source": [
        "# Langkah 7: Menangani Kolom colors\n",
        "hm1_encoded = hm1_encoded.drop(columns=['colors'], errors='ignore')"
      ],
      "metadata": {
        "id": "ImofaZv9llMY"
      },
      "execution_count": 17,
      "outputs": []
    },
    {
      "cell_type": "markdown",
      "source": [
        "Deskripsi :\n",
        " - Kolom colors dihapus karena redundan dengan colorName.\n",
        " - Parameter errors='ignore' mencegah error jika kolom tidak ada."
      ],
      "metadata": {
        "id": "KsnQP5DQjBPg"
      }
    },
    {
      "cell_type": "code",
      "source": [
        "# Gabungkan semua fitur\n",
        "hm1_encoded = pd.concat([\n",
        "    hm1[['productId', 'price']].reset_index(drop=True),\n",
        "    hm1_encoded[['price_scaled']].reset_index(drop=True),\n",
        "    encoded_cats_df.reset_index(drop=True),\n",
        "    tfidf_details_df.reset_index(drop=True),\n",
        "    tfidf_materials_df.reset_index(drop=True)\n",
        "], axis=1)"
      ],
      "metadata": {
        "id": "6QaRhE2N4TfG"
      },
      "execution_count": 18,
      "outputs": []
    },
    {
      "cell_type": "markdown",
      "source": [
        "Deskripsi :\n",
        " - Dataset akhir (hm1_encoded) mencakup productId, price, price_scaled, fitur kategorikal yang diencode, dan fitur TF-IDF dari details dan materials.\n",
        " - reset_index(drop=True) memastikan indeks selaras saat penggabungan.\n",
        "\n",
        "Alasan :\n",
        "- Penggabungan ini menciptakan dataset lengkap untuk sistem rekomendasi.\n",
        "- Menyimpan productId dan price memungkinkan pelacakan produk dan filtering berdasarkan harga."
      ],
      "metadata": {
        "id": "kGFJKTu_jPz4"
      }
    },
    {
      "cell_type": "code",
      "source": [
        "# Simpan informasi produk untuk output rekomendasi\n",
        "hm1_info = hm1[['productId', 'price', 'colorName', 'mainCatCode', 'brandName', 'newArrival']].copy()"
      ],
      "metadata": {
        "id": "11YQwSSZ96Kc"
      },
      "execution_count": 19,
      "outputs": []
    },
    {
      "cell_type": "markdown",
      "source": [
        "Deskripsi :\n",
        "- DataFrame hm1_info menyimpan kolom yang relevan untuk menampilkan rekomendasi (ID, harga, warna, kategori, merek, status baru)\n",
        "- .copy() memastikan bahwa ini adalah salinan independen dari hm1."
      ],
      "metadata": {
        "id": "mGJq9YRejs83"
      }
    },
    {
      "cell_type": "markdown",
      "source": [
        "## Modelling\n"
      ],
      "metadata": {
        "id": "ZCAfEBP734Ho"
      }
    },
    {
      "cell_type": "code",
      "source": [
        "# Langkah 1: Pilih fitur untuk content-based filtering\n",
        "feature_cols = [col for col in hm1_encoded.columns if col not in ['productId', 'price']]\n",
        "feature_matrix = hm1_encoded[feature_cols].values"
      ],
      "metadata": {
        "id": "QmgHFRWD97WD"
      },
      "execution_count": 20,
      "outputs": []
    },
    {
      "cell_type": "markdown",
      "source": [
        "Deskripsi :    \n",
        "- Feature_cols mencakup semua kolom kecuali productId dan price, karena ini adalah fitur untuk menghitung kesamaan\n",
        "- Feature_matrix adalah array NumPy dari fitur-fitur ini."
      ],
      "metadata": {
        "id": "9NEztCcNj7xv"
      }
    },
    {
      "cell_type": "code",
      "source": [
        "# Langkah 2: Hitung cosine similarity\n",
        "similarity_matrix = cosine_similarity(feature_matrix)"
      ],
      "metadata": {
        "id": "5qis2rQ42em_"
      },
      "execution_count": 21,
      "outputs": []
    },
    {
      "cell_type": "markdown",
      "source": [
        "Deskripsi :    \n",
        "- Cosine_similarity menghitung kesamaan antar produk berdasarkan vektor fitur, menghasilkan matriks kesamaan."
      ],
      "metadata": {
        "id": "EBZRv91SkL9v"
      }
    },
    {
      "cell_type": "code",
      "source": [
        "# Langkah 3: Fungsi untuk mendapatkan rekomendasi\n",
        "def get_recommendations(product_id, num_recommendations=5, price_range=None):\n",
        "    idx = hm1_encoded.index[hm1_encoded['productId'] == product_id].tolist()\n",
        "    if not idx:\n",
        "        return \"Product ID tidak ditemukan.\"\n",
        "    idx = idx[0]\n",
        "\n",
        "    # Ambil skor kesamaan\n",
        "    sim_scores = list(enumerate(similarity_matrix[idx]))\n",
        "\n",
        "    # Filter berdasarkan price_range jika ditentukan\n",
        "    if price_range is not None:\n",
        "        target_price = hm1_encoded.loc[idx, 'price']\n",
        "        sim_scores = [(i, s) for i, s in sim_scores\n",
        "                      if abs(hm1_encoded.loc[i, 'price'] - target_price) <= price_range]\n",
        "\n",
        "    # Urutkan berdasarkan skor kesamaan\n",
        "    sim_scores = sorted(sim_scores, key=lambda x: x[1], reverse=True)\n",
        "    sim_scores = sim_scores[1:num_recommendations+1]\n",
        "\n",
        "    # Ambil indeks produk yang direkomendasikan\n",
        "    product_indices = [i[0] for i in sim_scores]\n",
        "\n",
        "    # Kembalikan informasi produk\n",
        "    return hm1_info.iloc[product_indices][['productId', 'price', 'colorName', 'mainCatCode', 'brandName', 'newArrival']]"
      ],
      "metadata": {
        "id": "chq8-fQ1-LV0"
      },
      "execution_count": 22,
      "outputs": []
    },
    {
      "cell_type": "markdown",
      "source": [
        "Deskripsi :    \n",
        "- Fungsi mengambil product_id, jumlah rekomendasi (num_recommendations), dan batas harga (price_range).\n",
        "- Mencari indeks produk berdasarkan productId. Jika tidak ditemukan, mengembalikan pesan error\n",
        "- Mengambil skor kesamaan dari similarity_matrix untuk produk tersebut.\n",
        "- Jika price_range diberikan, menyaring produk yang harganya berada dalam kisaran ±price_range dari harga produk target.\n",
        "- Mengurutkan skor kesamaan, mengambil num_recommendations produk teratas (kecuali produk itu sendiri), dan mengembalikan informasi produk dari hm1_info."
      ],
      "metadata": {
        "id": "uC7uInzmkSMP"
      }
    },
    {
      "cell_type": "code",
      "source": [
        "# Langkah 4: Contoh rekomendasi\n",
        "sample_product_ids = hm1_encoded['productId'].head(3).tolist()\n",
        "for pid in sample_product_ids:\n",
        "    print(f\"\\nRekomendasi untuk productId={pid} (dengan price_range=10):\")\n",
        "    print(get_recommendations(product_id=pid, num_recommendations=5, price_range=10))"
      ],
      "metadata": {
        "colab": {
          "base_uri": "https://localhost:8080/"
        },
        "id": "0eUXnWrL-RYz",
        "outputId": "8d59eb25-3c1f-422e-8390-aab125ba7c3d"
      },
      "execution_count": 23,
      "outputs": [
        {
          "output_type": "stream",
          "name": "stdout",
          "text": [
            "\n",
            "Rekomendasi untuk productId=834333001 (dengan price_range=10):\n",
            "      productId  price colorName        mainCatCode brandName  newArrival\n",
            "30   1214026001  49.99     Black  men_shoes_dressed       H&M       False\n",
            "91   1238739001  54.99     Black  men_shoes_dressed       H&M       False\n",
            "68   1238692001  59.99     Black  men_shoes_dressed       H&M       False\n",
            "113  1215930001  59.99     Black  men_shoes_dressed       H&M       False\n",
            "2    1036812001  56.99     Black  men_shoes_dressed       H&M       False\n",
            "\n",
            "Rekomendasi untuk productId=1258600003 (dengan price_range=10):\n",
            "      productId  price colorName               mainCatCode brandName  \\\n",
            "97   1072678004  19.99     Black        men_shoes_slippers       H&M   \n",
            "85   1200013001  29.99     Black        men_shoes_slippers       H&M   \n",
            "135  1172015001  24.99     Black  ladies_shoes_ankle_boots       H&M   \n",
            "47   1019486001  29.99     Black           men_shoes_boots       H&M   \n",
            "57   1041066001  31.99     Black        men_shoes_slippers       H&M   \n",
            "\n",
            "     newArrival  \n",
            "97        False  \n",
            "85        False  \n",
            "135       False  \n",
            "47        False  \n",
            "57        False  \n",
            "\n",
            "Rekomendasi untuk productId=1036812001 (dengan price_range=10):\n",
            "      productId  price colorName        mainCatCode brandName  newArrival\n",
            "68   1238692001  59.99     Black  men_shoes_dressed       H&M       False\n",
            "111  1185521001  64.99     Black  men_shoes_dressed       H&M       False\n",
            "0     834333001  49.99     Black  men_shoes_dressed       H&M       False\n",
            "113  1215930001  59.99     Black  men_shoes_dressed       H&M       False\n",
            "30   1214026001  49.99     Black  men_shoes_dressed       H&M       False\n"
          ]
        }
      ]
    },
    {
      "cell_type": "markdown",
      "source": [
        "Deskripsi :    \n",
        "- Mengambil tiga productId pertama dari hm1_encoded.\n",
        "- Untuk setiap ID, memanggil get_recommendations dengan price_range=10 dan menampilkan hasilnya."
      ],
      "metadata": {
        "id": "r-WwlyEykmNn"
      }
    },
    {
      "cell_type": "markdown",
      "source": [
        "## Evaluasi Model\n"
      ],
      "metadata": {
        "id": "14s-5l-QADmU"
      }
    },
    {
      "cell_type": "code",
      "source": [
        "# Langkah 1: Pilih produk contoh dari kategori berbeda\n",
        "# Memilih productId dari beberapa mainCatCode yang representatif\n",
        "sample_products = hm1_info.groupby('mainCatCode').head(1)[['productId', 'mainCatCode']].head(3)\n",
        "sample_product_ids = sample_products['productId'].tolist()\n",
        "sample_categories = sample_products['mainCatCode'].tolist()"
      ],
      "metadata": {
        "id": "W4JMbV3o-0eD"
      },
      "execution_count": 24,
      "outputs": []
    },
    {
      "cell_type": "markdown",
      "source": [
        "Deskripsi :    \n",
        "- Memilih satu produk dari tiga kategori berbeda menggunakan groupby('mainCatCode').head(1)"
      ],
      "metadata": {
        "id": "sesDTok6kzkX"
      }
    },
    {
      "cell_type": "code",
      "source": [
        "# Langkah 2: Tampilkan rekomendasi untuk setiap produk contoh\n",
        "for pid, cat in zip(sample_product_ids, sample_categories):\n",
        "    print(f\"\\n=== Rekomendasi untuk productId={pid} (Kategori: {cat}) ===\")\n",
        "    print(\"Produk Asli:\")\n",
        "    # Include 'details' and 'materials' when creating hm1_info\n",
        "    print(hm1[hm1['productId'] == pid][['productId', 'price', 'colorName', 'mainCatCode', 'brandName', 'newArrival', 'details', 'materials']])\n",
        "    print(\"\\nProduk yang Direkomendasikan (dengan price_range=10):\")\n",
        "\n",
        "    # Get recommendations and similarity scores\n",
        "    idx = hm1_encoded.index[hm1_encoded['productId'] == pid].tolist()[0]\n",
        "    sim_scores = list(enumerate(similarity_matrix[idx]))\n",
        "    sim_scores = sorted(sim_scores, key=lambda x: x[1], reverse=True)\n",
        "    sim_scores = sim_scores[1:6]\n",
        "\n",
        "    # Fix: Extract product indices and similarity scores correctly\n",
        "    product_indices = [i for i, s in sim_scores]\n",
        "    similarity_scores = [s for i, s in sim_scores]\n",
        "\n",
        "    recommendations = hm1_info.iloc[product_indices][['productId', 'price', 'colorName', 'mainCatCode', 'brandName', 'newArrival']]\n",
        "    recommendations['similarity_score'] = similarity_scores\n",
        "\n",
        "    print(recommendations)\n",
        "    print(\"\\nInterpretasi:\")\n",
        "    # Analisis kualitatif\n",
        "    same_category = (recommendations['mainCatCode'] == cat).sum()\n",
        "    similar_colors = recommendations['colorName'].str.contains(hm1_info.loc[hm1_info['productId'] == pid, 'colorName'].iloc[0], case=False, na=False).sum()\n",
        "    print(f\"- {same_category}/5 rekomendasi memiliki kategori yang sama ({cat}).\")\n",
        "    print(f\"- {similar_colors}/5 rekomendasi memiliki warna serupa.\")\n",
        "    print(f\"- Rentang harga rekomendasi: ${recommendations['price'].min():.2f} - ${recommendations['price'].max():.2f}\")\n",
        "    print(f\"- Skor kesamaan: {recommendations['similarity_score'].min():.3f} - {recommendations['similarity_score'].max():.3f}\")"
      ],
      "metadata": {
        "colab": {
          "base_uri": "https://localhost:8080/"
        },
        "id": "BVojFfH9AJGq",
        "outputId": "700a5d6a-50dd-47ee-e075-da66e1db634a"
      },
      "execution_count": 25,
      "outputs": [
        {
          "output_type": "stream",
          "name": "stdout",
          "text": [
            "\n",
            "=== Rekomendasi untuk productId=834333001 (Kategori: men_shoes_dressed) ===\n",
            "Produk Asli:\n",
            "   productId  price colorName        mainCatCode brandName  newArrival  \\\n",
            "0  834333001  49.99     Black  men_shoes_dressed       H&M       False   \n",
            "\n",
            "                                             details  \\\n",
            "0  Derby shoes with open lacing at front. Canvas ...   \n",
            "\n",
            "                                           materials  \n",
            "0  COMPOSITION\\nSole:Thermoplastic rubber 100%\\nU...  \n",
            "\n",
            "Produk yang Direkomendasikan (dengan price_range=10):\n",
            "      productId  price colorName        mainCatCode brandName  newArrival  \\\n",
            "30   1214026001  49.99     Black  men_shoes_dressed       H&M       False   \n",
            "91   1238739001  54.99     Black  men_shoes_dressed       H&M       False   \n",
            "68   1238692001  59.99     Black  men_shoes_dressed       H&M       False   \n",
            "113  1215930001  59.99     Black  men_shoes_dressed       H&M       False   \n",
            "2    1036812001  56.99     Black  men_shoes_dressed       H&M       False   \n",
            "\n",
            "     similarity_score  \n",
            "30           0.999911  \n",
            "91           0.992133  \n",
            "68           0.988971  \n",
            "113          0.988262  \n",
            "2            0.987309  \n",
            "\n",
            "Interpretasi:\n",
            "- 5/5 rekomendasi memiliki kategori yang sama (men_shoes_dressed).\n",
            "- 5/5 rekomendasi memiliki warna serupa.\n",
            "- Rentang harga rekomendasi: $49.99 - $59.99\n",
            "- Skor kesamaan: 0.987 - 1.000\n",
            "\n",
            "=== Rekomendasi untuk productId=1258600003 (Kategori: men_shoes_slippers) ===\n",
            "Produk Asli:\n",
            "    productId  price colorName         mainCatCode brandName  newArrival  \\\n",
            "1  1258600003  24.99     Black  men_shoes_slippers       H&M       False   \n",
            "\n",
            "                                             details  \\\n",
            "1  Slippers in napped fabric. Decorative seam at ...   \n",
            "\n",
            "                                           materials  \n",
            "1  COMPOSITION\\nLining:Polyester 100%\\nUpper:Poly...  \n",
            "\n",
            "Produk yang Direkomendasikan (dengan price_range=10):\n",
            "      productId  price colorName               mainCatCode brandName  \\\n",
            "97   1072678004  19.99     Black        men_shoes_slippers       H&M   \n",
            "49   1256304001  34.99     Black        men_shoes_slippers       H&M   \n",
            "85   1200013001  29.99     Black        men_shoes_slippers       H&M   \n",
            "135  1172015001  24.99     Black  ladies_shoes_ankle_boots       H&M   \n",
            "47   1019486001  29.99     Black           men_shoes_boots       H&M   \n",
            "\n",
            "     newArrival  similarity_score  \n",
            "97        False          0.974422  \n",
            "49        False          0.911490  \n",
            "85        False          0.902448  \n",
            "135       False          0.828486  \n",
            "47        False          0.820189  \n",
            "\n",
            "Interpretasi:\n",
            "- 3/5 rekomendasi memiliki kategori yang sama (men_shoes_slippers).\n",
            "- 5/5 rekomendasi memiliki warna serupa.\n",
            "- Rentang harga rekomendasi: $19.99 - $34.99\n",
            "- Skor kesamaan: 0.820 - 0.974\n",
            "\n",
            "=== Rekomendasi untuk productId=1119476020 (Kategori: men_shoes_sneakers) ===\n",
            "Produk Asli:\n",
            "    productId  price colorName         mainCatCode brandName  newArrival  \\\n",
            "4  1119476020  29.99     White  men_shoes_sneakers       H&M       False   \n",
            "\n",
            "                                             details  \\\n",
            "4  Sneakers with a padded upper edge and tongue, ...   \n",
            "\n",
            "                                           materials  \n",
            "4  COMPOSITION\\nLining:Polyester 100%\\nUpper:Poly...  \n",
            "\n",
            "Produk yang Direkomendasikan (dengan price_range=10):\n",
            "     productId  price colorName         mainCatCode brandName  newArrival  \\\n",
            "10  1216144004  34.99     White  men_shoes_sneakers       H&M       False   \n",
            "34  1002745005  36.99     White  men_shoes_sneakers       H&M       False   \n",
            "41  1119785001  42.99     White  men_shoes_sneakers       H&M       False   \n",
            "62  1208749001  49.99     White  men_shoes_sneakers       H&M       False   \n",
            "80   951820001  56.99     White  men_shoes_sneakers       H&M       False   \n",
            "\n",
            "    similarity_score  \n",
            "10          0.997734  \n",
            "34          0.970290  \n",
            "41          0.945986  \n",
            "62          0.915966  \n",
            "80          0.910409  \n",
            "\n",
            "Interpretasi:\n",
            "- 5/5 rekomendasi memiliki kategori yang sama (men_shoes_sneakers).\n",
            "- 5/5 rekomendasi memiliki warna serupa.\n",
            "- Rentang harga rekomendasi: $34.99 - $56.99\n",
            "- Skor kesamaan: 0.910 - 0.998\n"
          ]
        }
      ]
    },
    {
      "cell_type": "markdown",
      "source": [
        "Deskripsi :    \n",
        "- Menampilkan informasi produk asli, termasuk details dan materials.\n",
        "- Menghitung rekomendasi dengan cara yang sama seperti fungsi sebelumnya, tetapi menyertakan skor kesamaan.\n",
        "- Menganalisis rekomendasi secara kualitatif, menghitung :    \n",
        "  - Jumlah rekomendasi dalam kategori yang sama.\n",
        "  - Jumlah rekomendasi dengan warna serupa (menggunakan pencocokan string).\n",
        "  - Rentang harga rekomendasi.\n",
        "  - Rentang skor kesamaan.\n",
        "\n",
        "Alasan :    \n",
        "- Analisis ini mengevaluasi kualitas rekomendasi berdasarkan kategori, warna, dan harga.\n",
        "- Penyertaan details dan materials memberikan konteks tambahan tentang produk asli.\n",
        "- Interpretasi kualitatif membantu memahami apakah sistem merekomendasikan produk yang relevan."
      ],
      "metadata": {
        "id": "Unvu66-kmSZW"
      }
    },
    {
      "cell_type": "code",
      "source": [
        "# Langkah 3: Analisis distribusi skor kesamaan\n",
        "plt.figure(figsize=(8, 4))\n",
        "sns.histplot(similarity_matrix.flatten(), bins=50, kde=True)\n",
        "plt.title('Distribusi Skor Kesamaan (Cosine Similarity)')\n",
        "plt.xlabel('Skor Kesamaan')\n",
        "plt.ylabel('Frekuensi')\n",
        "plt.show()"
      ],
      "metadata": {
        "colab": {
          "base_uri": "https://localhost:8080/",
          "height": 410
        },
        "id": "D-B-R_-9A2GT",
        "outputId": "3cd46748-940f-434a-d0c8-d98c48cd1bc8"
      },
      "execution_count": 26,
      "outputs": [
        {
          "output_type": "display_data",
          "data": {
            "text/plain": [
              "<Figure size 800x400 with 1 Axes>"
            ],
            "image/png": "[encoded data removed]"
          },
          "metadata": {}
        }
      ]
    },
    {
      "cell_type": "markdown",
      "source": [
        "Deskripsi :    \n",
        "- similarity_matrix.flatten() mengubah matriks kesamaan menjadi array satu dimensi.\n",
        "- sns.histplot membuat histogram dengan 50 bin dan kurva KDE untuk menunjukkan distribusi skor kesamaan.\n",
        "\n",
        "Alasan :    \n",
        "- Histogram ini menunjukkan apakah produk cenderung sangat mirip (skor mendekati 1) atau berbeda (skor mendekati 0).\n",
        "- Distribusi yang baik memiliki campuran skor tinggi dan rendah, menunjukkan bahwa model dapat membedakan produk."
      ],
      "metadata": {
        "id": "eAKRngmAm4P-"
      }
    }
  ]
}